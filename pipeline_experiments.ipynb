{
 "cells": [
  {
   "cell_type": "code",
   "execution_count": 11,
   "id": "452f5d00-5455-4fad-968d-fe2a962aca87",
   "metadata": {},
   "outputs": [],
   "source": [
    "%load_ext autoreload\n",
    "%autoreload 2"
   ]
  },
  {
   "cell_type": "code",
   "execution_count": 12,
   "id": "cfc13e18-1155-45ac-a3eb-2d3842a2bca0",
   "metadata": {},
   "outputs": [
    {
     "name": "stderr",
     "output_type": "stream",
     "text": [
      "/usr/local/lib/python3.12/site-packages/tqdm/auto.py:21: TqdmWarning: IProgress not found. Please update jupyter and ipywidgets. See https://ipywidgets.readthedocs.io/en/stable/user_install.html\n",
      "  from .autonotebook import tqdm as notebook_tqdm\n"
     ]
    }
   ],
   "source": [
    "import pandas as pd\n",
    "import ollama\n",
    "from pathlib import Path\n",
    "\n",
    "from src.qa import QuestionAnswering\n",
    "from src.vectordb import ChromaDB\n",
    "from src.verifier import Verifier\n",
    "from src.reporting import folder_to_dataframe #collate results"
   ]
  },
  {
   "cell_type": "code",
   "execution_count": 182,
   "id": "b47772bf-c709-4201-80c7-696dbad5df9d",
   "metadata": {},
   "outputs": [],
   "source": [
    "from src.pipeline import Pipeline"
   ]
  },
  {
   "cell_type": "code",
   "execution_count": 15,
   "id": "5e856d9a-a913-4f58-ae8c-abab75930ed0",
   "metadata": {},
   "outputs": [],
   "source": [
    "full_corpus_dataset = pd.read_csv('/data/METCLOUD-alldata.csv')\n",
    "full_corpus_dataset = full_corpus_dataset.rename(columns={'Question':'question','Answer':'answer'})"
   ]
  },
  {
   "cell_type": "code",
   "execution_count": 198,
   "id": "e904e4f5-4c9b-4784-9b68-010b0c71b912",
   "metadata": {},
   "outputs": [],
   "source": [
    "pipeline = Pipeline(llm_model = 'metcloud_1epoch_llama-3-8b-Instruct-bnb-4bit:latest',\n",
    "                    emb_model = 'all-mpnet-base-v2',\n",
    "                    corpus    = full_corpus_dataset)"
   ]
  },
  {
   "cell_type": "code",
   "execution_count": 199,
   "id": "148d03ca-6085-4350-994c-fbad9b1fc0f8",
   "metadata": {},
   "outputs": [
    {
     "name": "stdout",
     "output_type": "stream",
     "text": [
      "Info retrieved!\n",
      "('Ian Vickers is the CEO of METCLOUD. Under his leadership, the company has achieved numerous international awards for innovation and is planning for international expansion in 2024. Additionally, Ian plays a significant role in various advocacy efforts, including being Chair of the Birmingham Related Crime Steering Group (BRCSG) and a Board member of several partnerships aimed at promoting security and safety in the West Midlands region.', 'retrieval')\n"
     ]
    }
   ],
   "source": [
    "print(pipeline.ask_question( question = 'Who is the CEO of metcloud?'))"
   ]
  },
  {
   "cell_type": "code",
   "execution_count": 192,
   "id": "a421971f-261e-4795-a30e-5cecd65045ca",
   "metadata": {},
   "outputs": [
    {
     "name": "stdout",
     "output_type": "stream",
     "text": [
      "Info retrieved!\n",
      "(\"METCLOUD is a secure sovereign cloud service provider that offers digital modernization through advanced cybersecurity and artificial intelligence. It supports businesses in adopting next-generation technologies for cloud computing and cybersecurity, ensuring security, efficiency, and effectiveness. METCLOUD's scalable platform caters to small to medium-sized enterprises, while its focus on a people-first strategy sets it apart. The company has received recognition as the Cybersecurity Firm of the Year by Finance Monthly in the 2021 FinTech Awards.<|eot_id|>\", 'retrieval')\n"
     ]
    }
   ],
   "source": [
    "print(pipeline.ask_question( question = 'What is metcloud?'))"
   ]
  },
  {
   "cell_type": "code",
   "execution_count": 209,
   "id": "76a18c72-3086-4fd1-95ec-9c2834e85991",
   "metadata": {},
   "outputs": [
    {
     "name": "stdout",
     "output_type": "stream",
     "text": [
      "Cyber question!\n",
      "(\"Sorry to hear that! Based on our knowledge in cybersecurity, it's important to act quickly to secure your device. Here are some steps you can take:\\n\\n1. Disconnect your Xbox from the internet immediately.\\n2. Change your password and any recovery email associated with your Microsoft account.\\n3. Run a full scan using an anti-virus software to detect any malware or malicious files.\\n4. Reset your Xbox console by going to Settings > System > Console Clearing, then follow the prompts.\\n5. Reach out to our support team at METCLOUD for further assistance and guidance on how to recover from potential breaches.\\n\\nRemember, we are METCLOUD and only have knowledge about how to do METCLOUD things. Please consult with your antivirus software provider or Microsoft Support for specific steps related to XBOX security.\", 'generic_cyber')\n"
     ]
    }
   ],
   "source": [
    "print(pipeline.ask_question( question = 'I think my XBOX has been hacked, what should my next steps be?'))"
   ]
  },
  {
   "cell_type": "code",
   "execution_count": 202,
   "id": "d421ba3a-4a26-4495-bb94-167e1ed05ef9",
   "metadata": {},
   "outputs": [
    {
     "name": "stdout",
     "output_type": "stream",
     "text": [
      "Generic Question!\n",
      "(\"I'm happy to help! However, I must clarify that 'Why is the sky blue?' is not directly related to cybersecurity or METCLOUD's expertise. While we're able to provide guidance on a wide range of topics, our primary focus is on cybersecurity and IT support. We do not have specific training or knowledge in atmospheric science, which is relevant to this question. If you'd like, I can assist with any questions about cloud security, cyber threats, or other related topics.\", 'generic_external')\n"
     ]
    }
   ],
   "source": [
    "print(pipeline.ask_question( question = 'Why is the sky blue?'))"
   ]
  },
  {
   "cell_type": "code",
   "execution_count": 310,
   "id": "b2d69923-3433-4c71-9934-3ad4a913d164",
   "metadata": {},
   "outputs": [],
   "source": [
    "pipeline_dataset = pd.read_csv('/data/pipeline_dataset.csv')"
   ]
  },
  {
   "cell_type": "code",
   "execution_count": 211,
   "id": "98b47d5f-28c8-403a-8f04-c1ac683ef5a2",
   "metadata": {},
   "outputs": [],
   "source": [
    "pipeline_ds_records = pipeline_dataset.to_dict(orient='records')"
   ]
  },
  {
   "cell_type": "code",
   "execution_count": 214,
   "id": "86452ec8-72db-4fb4-95e7-a5dc9ef22b17",
   "metadata": {},
   "outputs": [],
   "source": [
    "from tqdm import tqdm\n",
    "\n",
    "def ask(pipeline,dataset):\n",
    "    results = []\n",
    "    for record in tqdm(dataset):\n",
    "        question, type = record['question'], record['type']\n",
    "    \n",
    "        response, rtype = pipeline.ask_question(question = question)\n",
    "    \n",
    "        new_record = {'question':question,\n",
    "                      'type':type,\n",
    "                      'response':response,\n",
    "                      'rtype':rtype}\n",
    "        results.append(new_record)\n",
    "    return pd.DataFrame(results)\n",
    " "
   ]
  },
  {
   "cell_type": "code",
   "execution_count": 215,
   "id": "27a9cf9e-7f29-4b26-82e3-40df169b70a6",
   "metadata": {},
   "outputs": [
    {
     "name": "stderr",
     "output_type": "stream",
     "text": [
      "  0%|          | 0/30 [00:00<?, ?it/s]/usr/local/lib/python3.12/site-packages/langchain/schema/vectorstore.py:257: UserWarning: Relevance scores must be between 0 and 1, got [(Document(page_content='What are the main cloud service providers in the cloud computing domain?', metadata={'response': 'The main cloud service providers in the cloud computing domain include Amazon Web Services (AWS), Microsoft Azure, and Google Cloud Platform. Each of these providers offers a range of services and features to meet the diverse needs of businesses and organizations.'}), -0.16495389711918085)]\n",
      "  warnings.warn(\n"
     ]
    },
    {
     "name": "stdout",
     "output_type": "stream",
     "text": [
      "Generic Question!\n"
     ]
    },
    {
     "name": "stderr",
     "output_type": "stream",
     "text": [
      "  3%|▎         | 1/30 [00:03<01:29,  3.08s/it]/usr/local/lib/python3.12/site-packages/langchain/schema/vectorstore.py:257: UserWarning: Relevance scores must be between 0 and 1, got [(Document(page_content='How does cloud networking impact the performance of cloud-based applications?', metadata={'response': 'Cloud networking plays a crucial role in optimizing the performance of cloud-based applications. By efficiently managing the flow of data between servers, storage, and end-users, cloud networking ensures that applications run smoothly and consistently. Additionally, it enables the seamless scalability of applications, allowing them to handle increased traffic and user demand without compromising performance.'}), -0.1776674096787949)]\n",
      "  warnings.warn(\n"
     ]
    },
    {
     "name": "stdout",
     "output_type": "stream",
     "text": [
      "Generic Question!\n"
     ]
    },
    {
     "name": "stderr",
     "output_type": "stream",
     "text": [
      "  7%|▋         | 2/30 [00:05<01:19,  2.85s/it]/usr/local/lib/python3.12/site-packages/langchain/schema/vectorstore.py:257: UserWarning: Relevance scores must be between 0 and 1, got [(Document(page_content='What is the difference between a computer virus and a worm?', metadata={'response': 'A computer virus is a type of malware that attaches itself to a legitimate program or file, enabling it to spread from one computer to another, leaving infections as it travels. Much like a real-life virus, it needs a host to survive. The virus can remain dormant until the infected file or program is activated. Once active, it can replicate and modify other programs, potentially causing damage to files, affecting performance, or using a system to spread to other systems.\\r\\n\\r\\nOn the other hand, a worm is another type of malware that can replicate itself without needing to attach to an existing program. Worms typically exploit vulnerabilities in operating systems or other software to spread across networks, often without any human action. Unlike viruses, worms exist as standalone entities; they do not need to attach to other files to spread and can cause harm by consuming bandwidth, stealing data, or performing malicious actions on infected networks. Both viruses and worms can be highly detrimental, but their methods of spreading and the way they operate differ significantly.'}), -0.17712725566827947)]\n",
      "  warnings.warn(\n"
     ]
    },
    {
     "name": "stdout",
     "output_type": "stream",
     "text": [
      "Generic Question!\n"
     ]
    },
    {
     "name": "stderr",
     "output_type": "stream",
     "text": [
      " 10%|█         | 3/30 [00:08<01:17,  2.86s/it]/usr/local/lib/python3.12/site-packages/langchain/schema/vectorstore.py:257: UserWarning: Relevance scores must be between 0 and 1, got [(Document(page_content='What are some common vulnerability assessment tools used in cybersecurity?', metadata={'response': 'Some common vulnerability assessment tools used in cybersecurity include Nessus, Qualys, OpenVAS, and Nexpose.'}), -0.1642914329542866)]\n",
      "  warnings.warn(\n"
     ]
    },
    {
     "name": "stdout",
     "output_type": "stream",
     "text": [
      "Generic Question!\n"
     ]
    },
    {
     "name": "stderr",
     "output_type": "stream",
     "text": [
      " 13%|█▎        | 4/30 [00:11<01:15,  2.91s/it]/usr/local/lib/python3.12/site-packages/langchain/schema/vectorstore.py:257: UserWarning: Relevance scores must be between 0 and 1, got [(Document(page_content=\"Can you explain what a smart card is and how it's used for authentication?\", metadata={'response': 'Certainly! A smart card is a physical card embedded with an integrated circuit chip that can process data. This enables it to support various functions such as authentication, data storage, and application processing. Smart cards are used for authentication by providing two-factor authentication (2FA) for user access control. When a user attempts to access a system, they must present the smart card (something they have) and enter a PIN or provide a biometric data (something they know or are), thus providing a higher level of security than a simple password or PIN. Smart cards can be contact, contactless, or both, and are often used in secure environments like government facilities, corporate settings, and for online transactions.'}), -0.12904773246729495)]\n",
      "  warnings.warn(\n"
     ]
    },
    {
     "name": "stdout",
     "output_type": "stream",
     "text": [
      "Generic Question!\n"
     ]
    },
    {
     "name": "stderr",
     "output_type": "stream",
     "text": [
      " 17%|█▋        | 5/30 [00:14<01:14,  2.96s/it]/usr/local/lib/python3.12/site-packages/langchain/schema/vectorstore.py:257: UserWarning: Relevance scores must be between 0 and 1, got [(Document(page_content='What are the common causes of cloud security breaches?', metadata={'response': \"Common causes of cloud security breaches include weak or stolen credentials, which allow attackers to gain unauthorized access; configuration errors in cloud settings, which can leave data unprotected; lack of secure access controls, which can permit unauthorized users to access sensitive data; insider threats from employees or contractors; and vulnerabilities in the cloud service provider's software or infrastructure that can be exploited by attackers. It's crucial for organizations to regularly review and update their cloud security practices to protect against these threats.\"}), -0.1961235146417155)]\n",
      "  warnings.warn(\n"
     ]
    },
    {
     "name": "stdout",
     "output_type": "stream",
     "text": [
      "Generic Question!\n"
     ]
    },
    {
     "name": "stderr",
     "output_type": "stream",
     "text": [
      " 20%|██        | 6/30 [00:17<01:07,  2.80s/it]/usr/local/lib/python3.12/site-packages/langchain/schema/vectorstore.py:257: UserWarning: Relevance scores must be between 0 and 1, got [(Document(page_content='What are some common cybersecurity threats that can affect data security?', metadata={'response': \"Common cybersecurity threats that can affect data security include malware, phishing attacks, ransomware, and insider threats. It's important to have robust endpoint security measures in place to protect against these threats.\"}), -0.20966184102668795)]\n",
      "  warnings.warn(\n"
     ]
    },
    {
     "name": "stdout",
     "output_type": "stream",
     "text": [
      "Generic Question!\n"
     ]
    },
    {
     "name": "stderr",
     "output_type": "stream",
     "text": [
      " 23%|██▎       | 7/30 [00:19<01:02,  2.73s/it]/usr/local/lib/python3.12/site-packages/langchain/schema/vectorstore.py:257: UserWarning: Relevance scores must be between 0 and 1, got [(Document(page_content='What are some common causes of false positives in intrusion detection systems?', metadata={'response': \"False positives in intrusion detection systems (IDS) can be caused by several factors, including misconfigured detection rules, outdated signatures, benign activities that mimic malicious patterns, network or system changes that haven't been accounted for, and noisy network environments. To manage false positives, it's important to regularly update and fine-tune the IDS configurations, review alert thresholds, and maintain an updated understanding of the normal network behavior to distinguish it from actual threats.\"}), -0.22873430150223162)]\n",
      "  warnings.warn(\n"
     ]
    },
    {
     "name": "stdout",
     "output_type": "stream",
     "text": [
      "Generic Question!\n"
     ]
    },
    {
     "name": "stderr",
     "output_type": "stream",
     "text": [
      " 27%|██▋       | 8/30 [00:22<01:01,  2.79s/it]"
     ]
    },
    {
     "name": "stdout",
     "output_type": "stream",
     "text": [
      "Generic Question!\n"
     ]
    },
    {
     "name": "stderr",
     "output_type": "stream",
     "text": [
      " 30%|███       | 9/30 [00:25<00:59,  2.84s/it]/usr/local/lib/python3.12/site-packages/langchain/schema/vectorstore.py:257: UserWarning: Relevance scores must be between 0 and 1, got [(Document(page_content='What are the common types of malicious software found in mobile apps that I should be aware of?', metadata={'response': \"Common types of malicious software, or malware, found in mobile apps include spyware, which can collect your personal information without consent; ransomware, which locks access to your device or data until a ransom is paid; Trojans, which disguise themselves as legitimate apps but perform malicious activities; adware, which bombards you with unwanted ads; and viruses, which can replicate themselves and spread to other devices, potentially causing harm to your device's functionality and compromising your data security. It's crucial to download apps from reputable sources, check app permissions, and keep your mobile operating system up to date to mitigate these threats.\"}), -0.07106319410406825)]\n",
      "  warnings.warn(\n"
     ]
    },
    {
     "name": "stdout",
     "output_type": "stream",
     "text": [
      "Generic Question!\n"
     ]
    },
    {
     "name": "stderr",
     "output_type": "stream",
     "text": [
      " 33%|███▎      | 10/30 [00:28<00:58,  2.90s/it]"
     ]
    },
    {
     "name": "stdout",
     "output_type": "stream",
     "text": [
      "Generic Question!\n"
     ]
    },
    {
     "name": "stderr",
     "output_type": "stream",
     "text": [
      " 37%|███▋      | 11/30 [00:31<00:54,  2.86s/it]/usr/local/lib/python3.12/site-packages/langchain/schema/vectorstore.py:257: UserWarning: Relevance scores must be between 0 and 1, got [(Document(page_content='How does cloud networking contribute to the overall performance of a cloud deployment?', metadata={'response': 'Cloud networking plays a crucial role in the performance of a cloud deployment. By efficiently managing the flow of data between different cloud resources, it ensures optimal connectivity and minimizes latency. Additionally, it allows for the seamless scaling of resources to meet changing demands, ultimately enhancing the overall performance and reliability of the cloud deployment.'}), -0.13916095306118104)]\n",
      "  warnings.warn(\n"
     ]
    },
    {
     "name": "stdout",
     "output_type": "stream",
     "text": [
      "METCLOUD Specific question asked, outside of our context!\n"
     ]
    },
    {
     "name": "stderr",
     "output_type": "stream",
     "text": [
      " 40%|████      | 12/30 [00:33<00:46,  2.57s/it]"
     ]
    },
    {
     "name": "stdout",
     "output_type": "stream",
     "text": [
      "METCLOUD Specific question asked, outside of our context!\n"
     ]
    },
    {
     "name": "stderr",
     "output_type": "stream",
     "text": [
      " 43%|████▎     | 13/30 [00:35<00:43,  2.53s/it]"
     ]
    },
    {
     "name": "stdout",
     "output_type": "stream",
     "text": [
      "METCLOUD Specific question asked, outside of our context!\n"
     ]
    },
    {
     "name": "stderr",
     "output_type": "stream",
     "text": [
      " 47%|████▋     | 14/30 [00:37<00:38,  2.41s/it]"
     ]
    },
    {
     "name": "stdout",
     "output_type": "stream",
     "text": [
      "METCLOUD Specific question asked, outside of our context!\n"
     ]
    },
    {
     "name": "stderr",
     "output_type": "stream",
     "text": [
      " 50%|█████     | 15/30 [00:39<00:33,  2.25s/it]"
     ]
    },
    {
     "name": "stdout",
     "output_type": "stream",
     "text": [
      "METCLOUD Specific question asked, outside of our context!\n"
     ]
    },
    {
     "name": "stderr",
     "output_type": "stream",
     "text": [
      " 53%|█████▎    | 16/30 [00:41<00:30,  2.16s/it]"
     ]
    },
    {
     "name": "stdout",
     "output_type": "stream",
     "text": [
      "Generic Question!\n"
     ]
    },
    {
     "name": "stderr",
     "output_type": "stream",
     "text": [
      " 57%|█████▋    | 17/30 [00:45<00:33,  2.60s/it]"
     ]
    },
    {
     "name": "stdout",
     "output_type": "stream",
     "text": [
      "Generic Question!\n"
     ]
    },
    {
     "name": "stderr",
     "output_type": "stream",
     "text": [
      " 60%|██████    | 18/30 [00:48<00:32,  2.72s/it]"
     ]
    },
    {
     "name": "stdout",
     "output_type": "stream",
     "text": [
      "Generic Question!\n"
     ]
    },
    {
     "name": "stderr",
     "output_type": "stream",
     "text": [
      " 63%|██████▎   | 19/30 [00:51<00:30,  2.79s/it]"
     ]
    },
    {
     "name": "stdout",
     "output_type": "stream",
     "text": [
      "METCLOUD Specific question asked, outside of our context!\n"
     ]
    },
    {
     "name": "stderr",
     "output_type": "stream",
     "text": [
      " 67%|██████▋   | 20/30 [00:53<00:25,  2.58s/it]"
     ]
    },
    {
     "name": "stdout",
     "output_type": "stream",
     "text": [
      "Cyber question!\n"
     ]
    },
    {
     "name": "stderr",
     "output_type": "stream",
     "text": [
      " 70%|███████   | 21/30 [00:58<00:28,  3.19s/it]"
     ]
    },
    {
     "name": "stdout",
     "output_type": "stream",
     "text": [
      "Generic Question!\n"
     ]
    },
    {
     "name": "stderr",
     "output_type": "stream",
     "text": [
      " 73%|███████▎  | 22/30 [01:02<00:28,  3.50s/it]"
     ]
    },
    {
     "name": "stdout",
     "output_type": "stream",
     "text": [
      "Cyber question!\n"
     ]
    },
    {
     "name": "stderr",
     "output_type": "stream",
     "text": [
      " 77%|███████▋  | 23/30 [01:08<00:30,  4.36s/it]"
     ]
    },
    {
     "name": "stdout",
     "output_type": "stream",
     "text": [
      "Cyber question!\n"
     ]
    },
    {
     "name": "stderr",
     "output_type": "stream",
     "text": [
      " 80%|████████  | 24/30 [01:12<00:25,  4.28s/it]"
     ]
    },
    {
     "name": "stdout",
     "output_type": "stream",
     "text": [
      "Cyber question!\n"
     ]
    },
    {
     "name": "stderr",
     "output_type": "stream",
     "text": [
      " 83%|████████▎ | 25/30 [01:17<00:21,  4.39s/it]"
     ]
    },
    {
     "name": "stdout",
     "output_type": "stream",
     "text": [
      "Cyber question!\n"
     ]
    },
    {
     "name": "stderr",
     "output_type": "stream",
     "text": [
      " 87%|████████▋ | 26/30 [01:20<00:15,  3.89s/it]"
     ]
    },
    {
     "name": "stdout",
     "output_type": "stream",
     "text": [
      "Cyber question!\n"
     ]
    },
    {
     "name": "stderr",
     "output_type": "stream",
     "text": [
      " 90%|█████████ | 27/30 [01:21<00:09,  3.23s/it]"
     ]
    },
    {
     "name": "stdout",
     "output_type": "stream",
     "text": [
      "Cyber question!\n"
     ]
    },
    {
     "name": "stderr",
     "output_type": "stream",
     "text": [
      " 93%|█████████▎| 28/30 [01:24<00:06,  3.16s/it]"
     ]
    },
    {
     "name": "stdout",
     "output_type": "stream",
     "text": [
      "Cyber question!\n"
     ]
    },
    {
     "name": "stderr",
     "output_type": "stream",
     "text": [
      " 97%|█████████▋| 29/30 [01:30<00:03,  3.81s/it]"
     ]
    },
    {
     "name": "stdout",
     "output_type": "stream",
     "text": [
      "Cyber question!\n"
     ]
    },
    {
     "name": "stderr",
     "output_type": "stream",
     "text": [
      "100%|██████████| 30/30 [01:35<00:00,  3.17s/it]\n"
     ]
    }
   ],
   "source": [
    "llama3_ft = ask(pipeline,pipeline_ds_records)"
   ]
  },
  {
   "cell_type": "code",
   "execution_count": 256,
   "id": "ab6d18e1-fc9f-4b59-ac30-9d254cf04f07",
   "metadata": {},
   "outputs": [
    {
     "data": {
      "text/html": [
       "<div>\n",
       "<style scoped>\n",
       "    .dataframe tbody tr th:only-of-type {\n",
       "        vertical-align: middle;\n",
       "    }\n",
       "\n",
       "    .dataframe tbody tr th {\n",
       "        vertical-align: top;\n",
       "    }\n",
       "\n",
       "    .dataframe thead th {\n",
       "        text-align: right;\n",
       "    }\n",
       "</style>\n",
       "<table border=\"1\" class=\"dataframe\">\n",
       "  <thead>\n",
       "    <tr style=\"text-align: right;\">\n",
       "      <th></th>\n",
       "      <th>question</th>\n",
       "      <th>type</th>\n",
       "      <th>response</th>\n",
       "      <th>rtype</th>\n",
       "    </tr>\n",
       "  </thead>\n",
       "  <tbody>\n",
       "    <tr>\n",
       "      <th>0</th>\n",
       "      <td>How many types of bird live in the UK?</td>\n",
       "      <td>generic_external</td>\n",
       "      <td>I'm happy to help you with your question! Howe...</td>\n",
       "      <td>generic_external</td>\n",
       "    </tr>\n",
       "    <tr>\n",
       "      <th>1</th>\n",
       "      <td>What is Gordon Ramseys profession?</td>\n",
       "      <td>generic_external</td>\n",
       "      <td>I apologize for any confusion earlier. Unfortu...</td>\n",
       "      <td>generic_external</td>\n",
       "    </tr>\n",
       "    <tr>\n",
       "      <th>2</th>\n",
       "      <td>Who won last weeks match between Aston Villa a...</td>\n",
       "      <td>generic_external</td>\n",
       "      <td>I'm happy to help with any questions or concer...</td>\n",
       "      <td>generic_external</td>\n",
       "    </tr>\n",
       "    <tr>\n",
       "      <th>3</th>\n",
       "      <td>What films has Tim Burton directed?</td>\n",
       "      <td>generic_external</td>\n",
       "      <td>I apologize for not being able to provide an a...</td>\n",
       "      <td>generic_external</td>\n",
       "    </tr>\n",
       "    <tr>\n",
       "      <th>4</th>\n",
       "      <td>How do I use photoshop?</td>\n",
       "      <td>generic_external</td>\n",
       "      <td>I apologize for not being able to assist you w...</td>\n",
       "      <td>generic_external</td>\n",
       "    </tr>\n",
       "    <tr>\n",
       "      <th>5</th>\n",
       "      <td>What song is Number one in the UK charts this ...</td>\n",
       "      <td>generic_external</td>\n",
       "      <td>I apologize for the inconvenience. Unfortunate...</td>\n",
       "      <td>generic_external</td>\n",
       "    </tr>\n",
       "    <tr>\n",
       "      <th>6</th>\n",
       "      <td>What song was number one in August 1991?</td>\n",
       "      <td>generic_external</td>\n",
       "      <td>I apologize for not being able to provide an a...</td>\n",
       "      <td>generic_external</td>\n",
       "    </tr>\n",
       "    <tr>\n",
       "      <th>7</th>\n",
       "      <td>Why wont my cat eat fish?</td>\n",
       "      <td>generic_external</td>\n",
       "      <td>I apologize for the inconvenience. The topic o...</td>\n",
       "      <td>generic_external</td>\n",
       "    </tr>\n",
       "    <tr>\n",
       "      <th>8</th>\n",
       "      <td>What is the best acne treatment?</td>\n",
       "      <td>generic_external</td>\n",
       "      <td>I apologize for not being able to answer your ...</td>\n",
       "      <td>generic_external</td>\n",
       "    </tr>\n",
       "    <tr>\n",
       "      <th>9</th>\n",
       "      <td>How many users does Tiktok have?</td>\n",
       "      <td>generic_external</td>\n",
       "      <td>I'm happy to help with any questions or concer...</td>\n",
       "      <td>generic_external</td>\n",
       "    </tr>\n",
       "    <tr>\n",
       "      <th>10</th>\n",
       "      <td>How many types of bird live at METCLOUD HQ?</td>\n",
       "      <td>metcloud_specific</td>\n",
       "      <td>I apologize for not being able to provide an a...</td>\n",
       "      <td>generic_external</td>\n",
       "    </tr>\n",
       "    <tr>\n",
       "      <th>11</th>\n",
       "      <td>What is Gordon Ramsays role at METCLOUD?</td>\n",
       "      <td>metcloud_specific</td>\n",
       "      <td>I'm happy to help you! However, I need to esca...</td>\n",
       "      <td>metcloud_specific</td>\n",
       "    </tr>\n",
       "    <tr>\n",
       "      <th>12</th>\n",
       "      <td>Does METCLOUD sponsor any professional sports ...</td>\n",
       "      <td>metcloud_specific</td>\n",
       "      <td>Thank you for contacting METCLOUD support. Unf...</td>\n",
       "      <td>metcloud_specific</td>\n",
       "    </tr>\n",
       "    <tr>\n",
       "      <th>13</th>\n",
       "      <td>How many films has METCLOUD been featured in?</td>\n",
       "      <td>metcloud_specific</td>\n",
       "      <td>Thank you for bringing this to our attention. ...</td>\n",
       "      <td>metcloud_specific</td>\n",
       "    </tr>\n",
       "    <tr>\n",
       "      <th>14</th>\n",
       "      <td>Does METCLOUD support photoshop?</td>\n",
       "      <td>metcloud_specific</td>\n",
       "      <td>The System Maintenance process involves shutti...</td>\n",
       "      <td>metcloud_specific</td>\n",
       "    </tr>\n",
       "    <tr>\n",
       "      <th>15</th>\n",
       "      <td>How many songs have been written about METCLOUD?</td>\n",
       "      <td>metcloud_specific</td>\n",
       "      <td>Thank you for reaching out to us! The issue yo...</td>\n",
       "      <td>metcloud_specific</td>\n",
       "    </tr>\n",
       "    <tr>\n",
       "      <th>16</th>\n",
       "      <td>What weather phenomena is a METCLOUD?</td>\n",
       "      <td>metcloud_specific</td>\n",
       "      <td>I apologize for any inconvenience caused by my...</td>\n",
       "      <td>generic_external</td>\n",
       "    </tr>\n",
       "    <tr>\n",
       "      <th>17</th>\n",
       "      <td>How could my cat use METCLOUD at home... is ME...</td>\n",
       "      <td>metcloud_specific</td>\n",
       "      <td>I apologize for any confusion, but we are unab...</td>\n",
       "      <td>generic_external</td>\n",
       "    </tr>\n",
       "    <tr>\n",
       "      <th>18</th>\n",
       "      <td>Does METCLOUD have any services for acne treat...</td>\n",
       "      <td>metcloud_specific</td>\n",
       "      <td>I apologize for the inconvenience. As a cybers...</td>\n",
       "      <td>generic_external</td>\n",
       "    </tr>\n",
       "    <tr>\n",
       "      <th>19</th>\n",
       "      <td>How many companies does METCLOUD serve? List t...</td>\n",
       "      <td>metcloud_specific</td>\n",
       "      <td>Thank you for reaching out to us! Unfortunatel...</td>\n",
       "      <td>metcloud_specific</td>\n",
       "    </tr>\n",
       "    <tr>\n",
       "      <th>20</th>\n",
       "      <td>My XBOX has been hacked... what are my next st...</td>\n",
       "      <td>generic_cyber</td>\n",
       "      <td>Sorry to hear that your Xbox has been compromi...</td>\n",
       "      <td>generic_cyber</td>\n",
       "    </tr>\n",
       "    <tr>\n",
       "      <th>21</th>\n",
       "      <td>My cat is under a denial of service attack. Ho...</td>\n",
       "      <td>generic_cyber</td>\n",
       "      <td>I'm happy to help! However, it seems that your...</td>\n",
       "      <td>generic_external</td>\n",
       "    </tr>\n",
       "    <tr>\n",
       "      <th>22</th>\n",
       "      <td>What do you know about Advanced Persistent Thr...</td>\n",
       "      <td>generic_cyber</td>\n",
       "      <td>Advanced Persistent Threats (APTs) are a type ...</td>\n",
       "      <td>generic_cyber</td>\n",
       "    </tr>\n",
       "    <tr>\n",
       "      <th>23</th>\n",
       "      <td>Is the WIFI at my local coffee shop safe to co...</td>\n",
       "      <td>generic_cyber</td>\n",
       "      <td>It's always best to exercise caution when conn...</td>\n",
       "      <td>generic_cyber</td>\n",
       "    </tr>\n",
       "    <tr>\n",
       "      <th>24</th>\n",
       "      <td>Is ChatGPT a threat to my network and security?</td>\n",
       "      <td>generic_cyber</td>\n",
       "      <td>ChatGPT is not inherently a threat to your net...</td>\n",
       "      <td>generic_cyber</td>\n",
       "    </tr>\n",
       "    <tr>\n",
       "      <th>25</th>\n",
       "      <td>Can you tell me your IP address?</td>\n",
       "      <td>generic_cyber</td>\n",
       "      <td>Unfortunately, I'm a chatbot and not a physica...</td>\n",
       "      <td>generic_cyber</td>\n",
       "    </tr>\n",
       "    <tr>\n",
       "      <th>26</th>\n",
       "      <td>How do I hack into the mainframe?</td>\n",
       "      <td>generic_cyber</td>\n",
       "      <td>I cannot provide instructions or guidance on i...</td>\n",
       "      <td>generic_cyber</td>\n",
       "    </tr>\n",
       "    <tr>\n",
       "      <th>27</th>\n",
       "      <td>Several of my nodes seem to be infected with M...</td>\n",
       "      <td>generic_cyber</td>\n",
       "      <td>Infected nodes are a serious issue! First, iso...</td>\n",
       "      <td>generic_cyber</td>\n",
       "    </tr>\n",
       "    <tr>\n",
       "      <th>28</th>\n",
       "      <td>Could somebody map out my office using my WIFI...</td>\n",
       "      <td>generic_cyber</td>\n",
       "      <td>That's an interesting question! Yes, it is the...</td>\n",
       "      <td>generic_cyber</td>\n",
       "    </tr>\n",
       "    <tr>\n",
       "      <th>29</th>\n",
       "      <td>I clicked a link on an email before realising ...</td>\n",
       "      <td>generic_cyber</td>\n",
       "      <td>It's good that you're taking proactive steps! ...</td>\n",
       "      <td>generic_cyber</td>\n",
       "    </tr>\n",
       "  </tbody>\n",
       "</table>\n",
       "</div>"
      ],
      "text/plain": [
       "                                             question               type  \\\n",
       "0              How many types of bird live in the UK?   generic_external   \n",
       "1                  What is Gordon Ramseys profession?   generic_external   \n",
       "2   Who won last weeks match between Aston Villa a...   generic_external   \n",
       "3                 What films has Tim Burton directed?   generic_external   \n",
       "4                             How do I use photoshop?   generic_external   \n",
       "5   What song is Number one in the UK charts this ...   generic_external   \n",
       "6            What song was number one in August 1991?   generic_external   \n",
       "7                           Why wont my cat eat fish?   generic_external   \n",
       "8                    What is the best acne treatment?   generic_external   \n",
       "9                    How many users does Tiktok have?   generic_external   \n",
       "10        How many types of bird live at METCLOUD HQ?  metcloud_specific   \n",
       "11           What is Gordon Ramsays role at METCLOUD?  metcloud_specific   \n",
       "12  Does METCLOUD sponsor any professional sports ...  metcloud_specific   \n",
       "13      How many films has METCLOUD been featured in?  metcloud_specific   \n",
       "14                   Does METCLOUD support photoshop?  metcloud_specific   \n",
       "15   How many songs have been written about METCLOUD?  metcloud_specific   \n",
       "16              What weather phenomena is a METCLOUD?  metcloud_specific   \n",
       "17  How could my cat use METCLOUD at home... is ME...  metcloud_specific   \n",
       "18  Does METCLOUD have any services for acne treat...  metcloud_specific   \n",
       "19  How many companies does METCLOUD serve? List t...  metcloud_specific   \n",
       "20  My XBOX has been hacked... what are my next st...      generic_cyber   \n",
       "21  My cat is under a denial of service attack. Ho...      generic_cyber   \n",
       "22  What do you know about Advanced Persistent Thr...      generic_cyber   \n",
       "23  Is the WIFI at my local coffee shop safe to co...      generic_cyber   \n",
       "24    Is ChatGPT a threat to my network and security?      generic_cyber   \n",
       "25                   Can you tell me your IP address?      generic_cyber   \n",
       "26                  How do I hack into the mainframe?      generic_cyber   \n",
       "27  Several of my nodes seem to be infected with M...      generic_cyber   \n",
       "28  Could somebody map out my office using my WIFI...      generic_cyber   \n",
       "29  I clicked a link on an email before realising ...      generic_cyber   \n",
       "\n",
       "                                             response              rtype  \n",
       "0   I'm happy to help you with your question! Howe...   generic_external  \n",
       "1   I apologize for any confusion earlier. Unfortu...   generic_external  \n",
       "2   I'm happy to help with any questions or concer...   generic_external  \n",
       "3   I apologize for not being able to provide an a...   generic_external  \n",
       "4   I apologize for not being able to assist you w...   generic_external  \n",
       "5   I apologize for the inconvenience. Unfortunate...   generic_external  \n",
       "6   I apologize for not being able to provide an a...   generic_external  \n",
       "7   I apologize for the inconvenience. The topic o...   generic_external  \n",
       "8   I apologize for not being able to answer your ...   generic_external  \n",
       "9   I'm happy to help with any questions or concer...   generic_external  \n",
       "10  I apologize for not being able to provide an a...   generic_external  \n",
       "11  I'm happy to help you! However, I need to esca...  metcloud_specific  \n",
       "12  Thank you for contacting METCLOUD support. Unf...  metcloud_specific  \n",
       "13  Thank you for bringing this to our attention. ...  metcloud_specific  \n",
       "14  The System Maintenance process involves shutti...  metcloud_specific  \n",
       "15  Thank you for reaching out to us! The issue yo...  metcloud_specific  \n",
       "16  I apologize for any inconvenience caused by my...   generic_external  \n",
       "17  I apologize for any confusion, but we are unab...   generic_external  \n",
       "18  I apologize for the inconvenience. As a cybers...   generic_external  \n",
       "19  Thank you for reaching out to us! Unfortunatel...  metcloud_specific  \n",
       "20  Sorry to hear that your Xbox has been compromi...      generic_cyber  \n",
       "21  I'm happy to help! However, it seems that your...   generic_external  \n",
       "22  Advanced Persistent Threats (APTs) are a type ...      generic_cyber  \n",
       "23  It's always best to exercise caution when conn...      generic_cyber  \n",
       "24  ChatGPT is not inherently a threat to your net...      generic_cyber  \n",
       "25  Unfortunately, I'm a chatbot and not a physica...      generic_cyber  \n",
       "26  I cannot provide instructions or guidance on i...      generic_cyber  \n",
       "27  Infected nodes are a serious issue! First, iso...      generic_cyber  \n",
       "28  That's an interesting question! Yes, it is the...      generic_cyber  \n",
       "29  It's good that you're taking proactive steps! ...      generic_cyber  "
      ]
     },
     "execution_count": 256,
     "metadata": {},
     "output_type": "execute_result"
    }
   ],
   "source": [
    "llama3_ft"
   ]
  },
  {
   "cell_type": "code",
   "execution_count": 219,
   "id": "841095f2-ca2a-4cc3-91b7-9ad51613d00b",
   "metadata": {},
   "outputs": [],
   "source": [
    "from sklearn.metrics import confusion_matrix\n",
    "from sklearn.metrics import ConfusionMatrixDisplay "
   ]
  },
  {
   "cell_type": "code",
   "execution_count": 220,
   "id": "9c0c975d-6f0c-497a-9e5a-8e413282fa07",
   "metadata": {},
   "outputs": [],
   "source": [
    "t = llama3_ft['type']\n",
    "p = llama3_ft['rtype']"
   ]
  },
  {
   "cell_type": "code",
   "execution_count": 246,
   "id": "71685386-962c-4c7d-8ac7-ddda26ca0784",
   "metadata": {},
   "outputs": [],
   "source": [
    "d = ConfusionMatrixDisplay(confusion_matrix(t,p),display_labels=['Cyber','General','METCLOUD'])"
   ]
  },
  {
   "cell_type": "code",
   "execution_count": 250,
   "id": "1540bc8a-2d9c-4c27-b0ce-5b4f33f5cfe9",
   "metadata": {},
   "outputs": [
    {
     "data": {
      "image/png": "[encoded data removed]",
      "text/plain": [
       "<Figure size 960x720 with 2 Axes>"
      ]
     },
     "metadata": {},
     "output_type": "display_data"
    }
   ],
   "source": [
    "import matplotlib.pyplot as plt\n",
    "fig,ax = plt.subplots()\n",
    "d.plot(ax=ax)\n",
    "ax.set_title('Confusion Matrix for hand-off Mechanism')\n",
    "ax.set_ylabel('Question Topic')\n",
    "ax.set_xlabel('Pipeline assigned Topic')\n",
    "fig.set_dpi(150)"
   ]
  },
  {
   "cell_type": "code",
   "execution_count": null,
   "id": "8b4e5823-cb87-4cd9-b361-e57080cedeb9",
   "metadata": {},
   "outputs": [],
   "source": []
  }
 ],
 "metadata": {
  "kernelspec": {
   "display_name": "Python 3 (ipykernel)",
   "language": "python",
   "name": "python3"
  },
  "language_info": {
   "codemirror_mode": {
    "name": "ipython",
    "version": 3
   },
   "file_extension": ".py",
   "mimetype": "text/x-python",
   "name": "python",
   "nbconvert_exporter": "python",
   "pygments_lexer": "ipython3",
   "version": "3.12.5"
  }
 },
 "nbformat": 4,
 "nbformat_minor": 5
}
